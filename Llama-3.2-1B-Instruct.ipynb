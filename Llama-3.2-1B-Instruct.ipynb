{
 "cells": [
  {
   "metadata": {},
   "cell_type": "markdown",
   "source": "# Importing Libraries",
   "id": "225ad28cc0c70ef9"
  },
  {
   "metadata": {
    "ExecuteTime": {
     "end_time": "2024-11-01T03:44:10.510680Z",
     "start_time": "2024-11-01T03:44:07.667518Z"
    }
   },
   "cell_type": "code",
   "source": "from mlx_lm import load, generate",
   "id": "8a90e16a413b2796",
   "outputs": [],
   "execution_count": 1
  },
  {
   "metadata": {},
   "cell_type": "markdown",
   "source": "# Model",
   "id": "3384a868e2700745"
  },
  {
   "metadata": {
    "ExecuteTime": {
     "end_time": "2024-11-01T03:44:12.007934Z",
     "start_time": "2024-11-01T03:44:10.512648Z"
    }
   },
   "cell_type": "code",
   "source": "model, tokenizer = load(\"mlx-community/Llama-3.2-1B-Instruct-4bit\")",
   "id": "10db928c7d191b6",
   "outputs": [
    {
     "data": {
      "text/plain": [
       "Fetching 6 files:   0%|          | 0/6 [00:00<?, ?it/s]"
      ],
      "application/vnd.jupyter.widget-view+json": {
       "version_major": 2,
       "version_minor": 0,
       "model_id": "ae385316af9a457f97f227aba3e31c79"
      }
     },
     "metadata": {},
     "output_type": "display_data"
    }
   ],
   "execution_count": 2
  },
  {
   "cell_type": "code",
   "id": "initial_id",
   "metadata": {
    "collapsed": true,
    "ExecuteTime": {
     "end_time": "2024-11-01T03:44:15.295441Z",
     "start_time": "2024-11-01T03:44:12.011459Z"
    }
   },
   "source": [
    "prompt=\"Can you help me write a email to the professor?\"\n",
    "\n",
    "if hasattr(tokenizer, \"apply_chat_template\") and tokenizer.chat_template is not None:\n",
    "    messages = [{\"role\": \"user\", \"content\": prompt}]\n",
    "    prompt = tokenizer.apply_chat_template(\n",
    "        messages, tokenize=False, add_generation_prompt=True\n",
    "    )\n",
    "\n",
    "response = generate(model, tokenizer, prompt=prompt, verbose=True)"
   ],
   "outputs": [
    {
     "name": "stdout",
     "output_type": "stream",
     "text": [
      "==========\n",
      "Prompt: <|begin_of_text|><|start_header_id|>system<|end_header_id|>\n",
      "\n",
      "Cutting Knowledge Date: December 2023\n",
      "Today Date: 01 Nov 2024\n",
      "\n",
      "<|eot_id|><|start_header_id|>user<|end_header_id|>\n",
      "\n",
      "Can you help me write a email to the professor?<|eot_id|><|start_header_id|>assistant<|end_header_id|>\n",
      "\n",
      "\n",
      "I'd be happy to help you write an email to your professor. Before we get started, can you please provide some details about the email you want to write? This will help me better understand your needs and provide a more accurate response. Please provide the following information:\n",
      "\n",
      "1. What is the topic of the email?\n",
      "2. Who is the professor and what is the assignment?\n",
      "3. What is the purpose of the email (e.g., asking a question, requesting feedback, or seeking clarification)?\n",
      "\n",
      "==========\n",
      "Prompt: 47 tokens, 158.338 tokens-per-sec\n",
      "Generation: 100 tokens, 33.626 tokens-per-sec\n",
      "Peak memory: 0.673 GB\n"
     ]
    }
   ],
   "execution_count": 3
  }
 ],
 "metadata": {
  "kernelspec": {
   "display_name": "Python 3",
   "language": "python",
   "name": "python3"
  },
  "language_info": {
   "codemirror_mode": {
    "name": "ipython",
    "version": 2
   },
   "file_extension": ".py",
   "mimetype": "text/x-python",
   "name": "python",
   "nbconvert_exporter": "python",
   "pygments_lexer": "ipython2",
   "version": "2.7.6"
  }
 },
 "nbformat": 4,
 "nbformat_minor": 5
}
